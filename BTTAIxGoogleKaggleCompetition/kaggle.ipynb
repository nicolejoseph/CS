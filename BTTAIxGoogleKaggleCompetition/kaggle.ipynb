{
 "cells": [
  {
   "cell_type": "code",
   "execution_count": 1,
   "id": "f5990616",
   "metadata": {
    "_cell_guid": "b1076dfc-b9ad-4769-8c92-a6c4dae69d19",
    "_uuid": "8f2839f25d086af736a60e9eeb907d3b93b6e0e5",
    "execution": {
     "iopub.execute_input": "2023-02-23T19:56:08.000223Z",
     "iopub.status.busy": "2023-02-23T19:56:07.999806Z",
     "iopub.status.idle": "2023-02-23T19:56:08.011512Z",
     "shell.execute_reply": "2023-02-23T19:56:08.010528Z"
    },
    "papermill": {
     "duration": 0.021109,
     "end_time": "2023-02-23T19:56:08.013438",
     "exception": false,
     "start_time": "2023-02-23T19:56:07.992329",
     "status": "completed"
    },
    "tags": []
   },
   "outputs": [
    {
     "name": "stdout",
     "output_type": "stream",
     "text": [
      "/kaggle/input/breakthrough-tech-ai-studio-challenge/sample_submission.csv\n",
      "/kaggle/input/breakthrough-tech-ai-studio-challenge/movies_keywords.csv\n",
      "/kaggle/input/breakthrough-tech-ai-studio-challenge/movies_metadata.csv\n",
      "/kaggle/input/breakthrough-tech-ai-studio-challenge/train.csv\n",
      "/kaggle/input/breakthrough-tech-ai-studio-challenge/test.csv\n"
     ]
    }
   ],
   "source": [
    "# This Python 3 environment comes with many helpful analytics libraries installed\n",
    "# It is defined by the kaggle/python Docker image: https://github.com/kaggle/docker-python\n",
    "# For example, here's several helpful packages to load\n",
    "\n",
    "import numpy as np # linear algebra\n",
    "import pandas as pd # data processing, CSV file I/O (e.g. pd.read_csv)\n",
    "\n",
    "# Input data files are available in the read-only \"../input/\" directory\n",
    "# For example, running this (by clicking run or pressing Shift+Enter) will list all files under the input directory\n",
    "\n",
    "import os\n",
    "for dirname, _, filenames in os.walk('/kaggle/input'):\n",
    "    for filename in filenames:\n",
    "        print(os.path.join(dirname, filename))\n",
    "\n",
    "# You can write up to 20GB to the current directory (/kaggle/working/) that gets preserved as output when you create a version using \"Save & Run All\" \n",
    "# You can also write temporary files to /kaggle/temp/, but they won't be saved outside of the current session"
   ]
  },
  {
   "cell_type": "code",
   "execution_count": 2,
   "id": "2f67c883",
   "metadata": {
    "execution": {
     "iopub.execute_input": "2023-02-23T19:56:08.025303Z",
     "iopub.status.busy": "2023-02-23T19:56:08.024894Z",
     "iopub.status.idle": "2023-02-23T19:56:08.131081Z",
     "shell.execute_reply": "2023-02-23T19:56:08.130081Z"
    },
    "papermill": {
     "duration": 0.114741,
     "end_time": "2023-02-23T19:56:08.133290",
     "exception": false,
     "start_time": "2023-02-23T19:56:08.018549",
     "status": "completed"
    },
    "tags": []
   },
   "outputs": [],
   "source": [
    "import pandas as pd\n",
    "from surprise import Dataset\n",
    "from surprise import Reader\n",
    "from surprise import SVD"
   ]
  },
  {
   "cell_type": "code",
   "execution_count": 3,
   "id": "94024a80",
   "metadata": {
    "execution": {
     "iopub.execute_input": "2023-02-23T19:56:08.145300Z",
     "iopub.status.busy": "2023-02-23T19:56:08.144967Z",
     "iopub.status.idle": "2023-02-23T19:56:08.428758Z",
     "shell.execute_reply": "2023-02-23T19:56:08.427399Z"
    },
    "papermill": {
     "duration": 0.29268,
     "end_time": "2023-02-23T19:56:08.431306",
     "exception": false,
     "start_time": "2023-02-23T19:56:08.138626",
     "status": "completed"
    },
    "tags": []
   },
   "outputs": [],
   "source": [
    "# Load the train data from csv file\n",
    "train_df = pd.read_csv('/kaggle/input/breakthrough-tech-ai-studio-challenge/train.csv')\n",
    "train_df[['userId', 'movieId']] = train_df['userId_movieId'].str.split('_', expand=True)\n",
    "train_df = train_df.drop('userId_movieId', axis=1)"
   ]
  },
  {
   "cell_type": "code",
   "execution_count": 4,
   "id": "d3f37164",
   "metadata": {
    "execution": {
     "iopub.execute_input": "2023-02-23T19:56:08.443340Z",
     "iopub.status.busy": "2023-02-23T19:56:08.442957Z",
     "iopub.status.idle": "2023-02-23T19:56:08.512815Z",
     "shell.execute_reply": "2023-02-23T19:56:08.511865Z"
    },
    "papermill": {
     "duration": 0.078719,
     "end_time": "2023-02-23T19:56:08.515244",
     "exception": false,
     "start_time": "2023-02-23T19:56:08.436525",
     "status": "completed"
    },
    "tags": []
   },
   "outputs": [],
   "source": [
    "# Load the test dataset\n",
    "test_df = pd.read_csv('/kaggle/input/breakthrough-tech-ai-studio-challenge/test.csv')\n",
    "test_df[['userId', 'movieId']] = test_df['userId_movieId'].str.split('_', expand=True)\n",
    "test_df = test_df.drop('userId_movieId', axis=1)"
   ]
  },
  {
   "cell_type": "code",
   "execution_count": 5,
   "id": "feb72f89",
   "metadata": {
    "execution": {
     "iopub.execute_input": "2023-02-23T19:56:08.527514Z",
     "iopub.status.busy": "2023-02-23T19:56:08.527107Z",
     "iopub.status.idle": "2023-02-23T19:56:08.606957Z",
     "shell.execute_reply": "2023-02-23T19:56:08.605645Z"
    },
    "papermill": {
     "duration": 0.088872,
     "end_time": "2023-02-23T19:56:08.609422",
     "exception": false,
     "start_time": "2023-02-23T19:56:08.520550",
     "status": "completed"
    },
    "tags": []
   },
   "outputs": [],
   "source": [
    "# Create a Dataset object with the train data\n",
    "reader = Reader(rating_scale=(0.0, 1.0))\n",
    "train_dataset = Dataset.load_from_df(train_df, reader)"
   ]
  },
  {
   "cell_type": "code",
   "execution_count": 6,
   "id": "3c6d1686",
   "metadata": {
    "execution": {
     "iopub.execute_input": "2023-02-23T19:56:08.621881Z",
     "iopub.status.busy": "2023-02-23T19:56:08.621518Z",
     "iopub.status.idle": "2023-02-23T19:56:08.674848Z",
     "shell.execute_reply": "2023-02-23T19:56:08.673746Z"
    },
    "papermill": {
     "duration": 0.062504,
     "end_time": "2023-02-23T19:56:08.677245",
     "exception": false,
     "start_time": "2023-02-23T19:56:08.614741",
     "status": "completed"
    },
    "tags": []
   },
   "outputs": [],
   "source": [
    "# Build the trainset\n",
    "trainset = train_dataset.build_full_trainset()"
   ]
  },
  {
   "cell_type": "code",
   "execution_count": 7,
   "id": "ff29bb02",
   "metadata": {
    "execution": {
     "iopub.execute_input": "2023-02-23T19:56:08.689050Z",
     "iopub.status.busy": "2023-02-23T19:56:08.688676Z",
     "iopub.status.idle": "2023-02-23T19:56:12.765079Z",
     "shell.execute_reply": "2023-02-23T19:56:12.764151Z"
    },
    "papermill": {
     "duration": 4.084609,
     "end_time": "2023-02-23T19:56:12.766999",
     "exception": false,
     "start_time": "2023-02-23T19:56:08.682390",
     "status": "completed"
    },
    "tags": []
   },
   "outputs": [
    {
     "data": {
      "text/plain": [
       "<surprise.prediction_algorithms.matrix_factorization.SVD at 0x7f38d696dd90>"
      ]
     },
     "execution_count": 7,
     "metadata": {},
     "output_type": "execute_result"
    }
   ],
   "source": [
    "# Build the recommendation model using the train dataset\n",
    "model = SVD()\n",
    "model.fit(trainset)"
   ]
  },
  {
   "cell_type": "code",
   "execution_count": 8,
   "id": "3db4ac43",
   "metadata": {
    "execution": {
     "iopub.execute_input": "2023-02-23T19:56:12.782286Z",
     "iopub.status.busy": "2023-02-23T19:56:12.781810Z",
     "iopub.status.idle": "2023-02-23T19:56:14.529849Z",
     "shell.execute_reply": "2023-02-23T19:56:14.528796Z"
    },
    "papermill": {
     "duration": 1.757784,
     "end_time": "2023-02-23T19:56:14.532114",
     "exception": false,
     "start_time": "2023-02-23T19:56:12.774330",
     "status": "completed"
    },
    "tags": []
   },
   "outputs": [],
   "source": [
    "# Use the model to predict ratings for the test dataset\n",
    "testset = [(int(row['userId']), int(row['movieId']), 0) for _, row in test_df.iterrows()]\n",
    "predictions = model.test(testset)"
   ]
  },
  {
   "cell_type": "code",
   "execution_count": 9,
   "id": "420f272e",
   "metadata": {
    "execution": {
     "iopub.execute_input": "2023-02-23T19:56:14.544990Z",
     "iopub.status.busy": "2023-02-23T19:56:14.544621Z",
     "iopub.status.idle": "2023-02-23T19:56:14.556089Z",
     "shell.execute_reply": "2023-02-23T19:56:14.555107Z"
    },
    "papermill": {
     "duration": 0.020162,
     "end_time": "2023-02-23T19:56:14.558140",
     "exception": false,
     "start_time": "2023-02-23T19:56:14.537978",
     "status": "completed"
    },
    "tags": []
   },
   "outputs": [],
   "source": [
    "# Save the test dataset with predicted ratings as a CSV file\n",
    "test_df['rating'] = [prediction.est for prediction in predictions]"
   ]
  },
  {
   "cell_type": "code",
   "execution_count": 10,
   "id": "31b2d58c",
   "metadata": {
    "execution": {
     "iopub.execute_input": "2023-02-23T19:56:14.569937Z",
     "iopub.status.busy": "2023-02-23T19:56:14.569501Z",
     "iopub.status.idle": "2023-02-23T19:56:14.583130Z",
     "shell.execute_reply": "2023-02-23T19:56:14.582135Z"
    },
    "papermill": {
     "duration": 0.021644,
     "end_time": "2023-02-23T19:56:14.585070",
     "exception": false,
     "start_time": "2023-02-23T19:56:14.563426",
     "status": "completed"
    },
    "tags": []
   },
   "outputs": [
    {
     "data": {
      "text/html": [
       "<div>\n",
       "<style scoped>\n",
       "    .dataframe tbody tr th:only-of-type {\n",
       "        vertical-align: middle;\n",
       "    }\n",
       "\n",
       "    .dataframe tbody tr th {\n",
       "        vertical-align: top;\n",
       "    }\n",
       "\n",
       "    .dataframe thead th {\n",
       "        text-align: right;\n",
       "    }\n",
       "</style>\n",
       "<table border=\"1\" class=\"dataframe\">\n",
       "  <thead>\n",
       "    <tr style=\"text-align: right;\">\n",
       "      <th></th>\n",
       "      <th>userId</th>\n",
       "      <th>movieId</th>\n",
       "      <th>rating</th>\n",
       "    </tr>\n",
       "  </thead>\n",
       "  <tbody>\n",
       "    <tr>\n",
       "      <th>0</th>\n",
       "      <td>469</td>\n",
       "      <td>2124</td>\n",
       "      <td>1.0</td>\n",
       "    </tr>\n",
       "    <tr>\n",
       "      <th>1</th>\n",
       "      <td>439</td>\n",
       "      <td>3753</td>\n",
       "      <td>1.0</td>\n",
       "    </tr>\n",
       "    <tr>\n",
       "      <th>2</th>\n",
       "      <td>522</td>\n",
       "      <td>1682</td>\n",
       "      <td>1.0</td>\n",
       "    </tr>\n",
       "    <tr>\n",
       "      <th>3</th>\n",
       "      <td>429</td>\n",
       "      <td>1217</td>\n",
       "      <td>1.0</td>\n",
       "    </tr>\n",
       "    <tr>\n",
       "      <th>4</th>\n",
       "      <td>71</td>\n",
       "      <td>1210</td>\n",
       "      <td>1.0</td>\n",
       "    </tr>\n",
       "  </tbody>\n",
       "</table>\n",
       "</div>"
      ],
      "text/plain": [
       "  userId movieId  rating\n",
       "0    469    2124     1.0\n",
       "1    439    3753     1.0\n",
       "2    522    1682     1.0\n",
       "3    429    1217     1.0\n",
       "4     71    1210     1.0"
      ]
     },
     "execution_count": 10,
     "metadata": {},
     "output_type": "execute_result"
    }
   ],
   "source": [
    "test_df.head()"
   ]
  },
  {
   "cell_type": "code",
   "execution_count": 11,
   "id": "e8a21a13",
   "metadata": {
    "execution": {
     "iopub.execute_input": "2023-02-23T19:56:14.597504Z",
     "iopub.status.busy": "2023-02-23T19:56:14.597125Z",
     "iopub.status.idle": "2023-02-23T19:56:15.575145Z",
     "shell.execute_reply": "2023-02-23T19:56:15.574471Z"
    },
    "papermill": {
     "duration": 0.986631,
     "end_time": "2023-02-23T19:56:15.577291",
     "exception": false,
     "start_time": "2023-02-23T19:56:14.590660",
     "status": "completed"
    },
    "tags": []
   },
   "outputs": [],
   "source": [
    "import optuna\n",
    "from surprise import SVD\n",
    "from surprise import Dataset\n",
    "from surprise.model_selection import cross_validate\n"
   ]
  },
  {
   "cell_type": "code",
   "execution_count": 12,
   "id": "38ed6d89",
   "metadata": {
    "execution": {
     "iopub.execute_input": "2023-02-23T19:56:15.590009Z",
     "iopub.status.busy": "2023-02-23T19:56:15.589119Z",
     "iopub.status.idle": "2023-02-23T19:56:15.595836Z",
     "shell.execute_reply": "2023-02-23T19:56:15.595123Z"
    },
    "papermill": {
     "duration": 0.014897,
     "end_time": "2023-02-23T19:56:15.597652",
     "exception": false,
     "start_time": "2023-02-23T19:56:15.582755",
     "status": "completed"
    },
    "tags": []
   },
   "outputs": [],
   "source": [
    "# Define the objective function for Optuna to optimize\n",
    "def objective(trial):\n",
    "    # Define the hyperparameter space to search\n",
    "    param_grid = {\n",
    "        'n_factors': trial.suggest_int('n_factors', 10, 100),\n",
    "        'n_epochs': trial.suggest_int('n_epochs', 10, 50),\n",
    "        'lr_all': trial.suggest_uniform('lr_all', 0.002, 0.01),\n",
    "        'reg_all': trial.suggest_uniform('reg_all', 0.02, 0.2),\n",
    "    }\n",
    "    \n",
    "    # Create the SVD model with the suggested hyperparameters\n",
    "    algo = SVD(**param_grid)\n",
    "    \n",
    "    # Cross-validate the model on the train dataset\n",
    "    cv_results = cross_validate(algo, train_dataset, measures=['rmse'], cv=5, verbose=False)\n",
    "    \n",
    "    # Return the mean RMSE score across all folds as the objective value to minimize\n",
    "    return cv_results['test_rmse'].mean()"
   ]
  },
  {
   "cell_type": "code",
   "execution_count": 13,
   "id": "69611eba",
   "metadata": {
    "execution": {
     "iopub.execute_input": "2023-02-23T19:56:15.610097Z",
     "iopub.status.busy": "2023-02-23T19:56:15.609564Z",
     "iopub.status.idle": "2023-02-23T20:01:45.500925Z",
     "shell.execute_reply": "2023-02-23T20:01:45.499857Z"
    },
    "papermill": {
     "duration": 329.904601,
     "end_time": "2023-02-23T20:01:45.507672",
     "exception": false,
     "start_time": "2023-02-23T19:56:15.603071",
     "status": "completed"
    },
    "tags": []
   },
   "outputs": [
    {
     "name": "stderr",
     "output_type": "stream",
     "text": [
      "\u001b[32m[I 2023-02-23 19:56:15,611]\u001b[0m A new study created in memory with name: no-name-75e191c7-9f43-4525-9c45-5f365a220dff\u001b[0m\n",
      "/opt/conda/lib/python3.7/site-packages/ipykernel_launcher.py:7: FutureWarning: suggest_uniform has been deprecated in v3.0.0. This feature will be removed in v6.0.0. See https://github.com/optuna/optuna/releases/tag/v3.0.0. Use :func:`~optuna.trial.Trial.suggest_float` instead.\n",
      "  import sys\n",
      "/opt/conda/lib/python3.7/site-packages/ipykernel_launcher.py:8: FutureWarning: suggest_uniform has been deprecated in v3.0.0. This feature will be removed in v6.0.0. See https://github.com/optuna/optuna/releases/tag/v3.0.0. Use :func:`~optuna.trial.Trial.suggest_float` instead.\n",
      "  \n",
      "\u001b[32m[I 2023-02-23 19:56:23,608]\u001b[0m Trial 0 finished with value: 29106.16618154135 and parameters: {'n_factors': 21, 'n_epochs': 21, 'lr_all': 0.008917609485306566, 'reg_all': 0.13811679002923488}. Best is trial 0 with value: 29106.16618154135.\u001b[0m\n",
      "\u001b[32m[I 2023-02-23 19:56:41,751]\u001b[0m Trial 1 finished with value: 29103.848716190154 and parameters: {'n_factors': 36, 'n_epochs': 40, 'lr_all': 0.004833039086417565, 'reg_all': 0.1845981222877804}. Best is trial 1 with value: 29103.848716190154.\u001b[0m\n",
      "\u001b[32m[I 2023-02-23 19:57:02,574]\u001b[0m Trial 2 finished with value: 29105.570119404256 and parameters: {'n_factors': 86, 'n_epochs': 27, 'lr_all': 0.0023852343932079627, 'reg_all': 0.12283703723932404}. Best is trial 1 with value: 29103.848716190154.\u001b[0m\n",
      "\u001b[32m[I 2023-02-23 19:57:15,291]\u001b[0m Trial 3 finished with value: 29106.07632365102 and parameters: {'n_factors': 15, 'n_epochs': 40, 'lr_all': 0.008224034996046271, 'reg_all': 0.18432580009841382}. Best is trial 1 with value: 29103.848716190154.\u001b[0m\n",
      "\u001b[32m[I 2023-02-23 19:57:27,047]\u001b[0m Trial 4 finished with value: 29105.10734502875 and parameters: {'n_factors': 90, 'n_epochs': 14, 'lr_all': 0.0035559236694049936, 'reg_all': 0.025656952988704636}. Best is trial 1 with value: 29103.848716190154.\u001b[0m\n",
      "\u001b[32m[I 2023-02-23 19:57:39,980]\u001b[0m Trial 5 finished with value: 29106.093191929045 and parameters: {'n_factors': 88, 'n_epochs': 16, 'lr_all': 0.00788165102981361, 'reg_all': 0.1742189438286943}. Best is trial 1 with value: 29103.848716190154.\u001b[0m\n",
      "\u001b[32m[I 2023-02-23 19:57:47,117]\u001b[0m Trial 6 finished with value: 29106.0491013875 and parameters: {'n_factors': 63, 'n_epochs': 10, 'lr_all': 0.004974698997633271, 'reg_all': 0.09677170302397635}. Best is trial 1 with value: 29103.848716190154.\u001b[0m\n",
      "\u001b[32m[I 2023-02-23 19:58:03,618]\u001b[0m Trial 7 finished with value: 29104.276250595994 and parameters: {'n_factors': 26, 'n_epochs': 42, 'lr_all': 0.007127678796108074, 'reg_all': 0.14891954050549464}. Best is trial 1 with value: 29103.848716190154.\u001b[0m\n",
      "\u001b[32m[I 2023-02-23 19:58:18,308]\u001b[0m Trial 8 finished with value: 29105.067427552265 and parameters: {'n_factors': 17, 'n_epochs': 45, 'lr_all': 0.0021040964617306396, 'reg_all': 0.14089982554589472}. Best is trial 1 with value: 29103.848716190154.\u001b[0m\n",
      "\u001b[32m[I 2023-02-23 19:58:44,426]\u001b[0m Trial 9 finished with value: 29102.467608618066 and parameters: {'n_factors': 88, 'n_epochs': 34, 'lr_all': 0.002896103021782848, 'reg_all': 0.09008164860697077}. Best is trial 9 with value: 29102.467608618066.\u001b[0m\n",
      "\u001b[32m[I 2023-02-23 19:59:03,543]\u001b[0m Trial 10 finished with value: 29104.62816270397 and parameters: {'n_factors': 65, 'n_epochs': 30, 'lr_all': 0.009882831386700692, 'reg_all': 0.08767195447940694}. Best is trial 9 with value: 29102.467608618066.\u001b[0m\n",
      "\u001b[32m[I 2023-02-23 19:59:21,273]\u001b[0m Trial 11 finished with value: 29102.582773467595 and parameters: {'n_factors': 42, 'n_epochs': 36, 'lr_all': 0.004901735923165289, 'reg_all': 0.07477940858707413}. Best is trial 9 with value: 29102.467608618066.\u001b[0m\n",
      "\u001b[32m[I 2023-02-23 19:59:39,789]\u001b[0m Trial 12 finished with value: 29104.497717191214 and parameters: {'n_factors': 49, 'n_epochs': 35, 'lr_all': 0.005853188824129604, 'reg_all': 0.06968828818373025}. Best is trial 9 with value: 29102.467608618066.\u001b[0m\n",
      "\u001b[32m[I 2023-02-23 20:00:05,795]\u001b[0m Trial 13 finished with value: 29105.563587879842 and parameters: {'n_factors': 48, 'n_epochs': 50, 'lr_all': 0.003790200983807138, 'reg_all': 0.06350333989466458}. Best is trial 9 with value: 29102.467608618066.\u001b[0m\n",
      "\u001b[32m[I 2023-02-23 20:00:29,278]\u001b[0m Trial 14 finished with value: 29105.525266386954 and parameters: {'n_factors': 74, 'n_epochs': 34, 'lr_all': 0.003413882035307014, 'reg_all': 0.1093528308441626}. Best is trial 9 with value: 29102.467608618066.\u001b[0m\n",
      "\u001b[32m[I 2023-02-23 20:00:40,704]\u001b[0m Trial 15 finished with value: 29101.344419572335 and parameters: {'n_factors': 33, 'n_epochs': 25, 'lr_all': 0.006354482321137168, 'reg_all': 0.05674236956258821}. Best is trial 15 with value: 29101.344419572335.\u001b[0m\n",
      "\u001b[32m[I 2023-02-23 20:00:51,388]\u001b[0m Trial 16 finished with value: 29104.53926289808 and parameters: {'n_factors': 31, 'n_epochs': 24, 'lr_all': 0.006532129447012026, 'reg_all': 0.05139609037403788}. Best is trial 15 with value: 29101.344419572335.\u001b[0m\n",
      "\u001b[32m[I 2023-02-23 20:01:05,556]\u001b[0m Trial 17 finished with value: 29105.908365380757 and parameters: {'n_factors': 74, 'n_epochs': 20, 'lr_all': 0.00590679050794121, 'reg_all': 0.04279408570709586}. Best is trial 15 with value: 29101.344419572335.\u001b[0m\n",
      "\u001b[32m[I 2023-02-23 20:01:23,330]\u001b[0m Trial 18 finished with value: 29105.922793098056 and parameters: {'n_factors': 60, 'n_epochs': 29, 'lr_all': 0.006921859561734436, 'reg_all': 0.09223389320423957}. Best is trial 15 with value: 29101.344419572335.\u001b[0m\n",
      "\u001b[32m[I 2023-02-23 20:01:45,496]\u001b[0m Trial 19 finished with value: 29102.681913345616 and parameters: {'n_factors': 99, 'n_epochs': 26, 'lr_all': 0.0053819544473043286, 'reg_all': 0.02067524572934412}. Best is trial 15 with value: 29101.344419572335.\u001b[0m\n"
     ]
    }
   ],
   "source": [
    "# Create a study object and optimize the objective function\n",
    "study = optuna.create_study(direction='minimize')\n",
    "study.optimize(objective, n_trials=20)"
   ]
  },
  {
   "cell_type": "code",
   "execution_count": 14,
   "id": "0dc378cc",
   "metadata": {
    "execution": {
     "iopub.execute_input": "2023-02-23T20:01:45.522386Z",
     "iopub.status.busy": "2023-02-23T20:01:45.521996Z",
     "iopub.status.idle": "2023-02-23T20:01:45.528390Z",
     "shell.execute_reply": "2023-02-23T20:01:45.527182Z"
    },
    "papermill": {
     "duration": 0.0163,
     "end_time": "2023-02-23T20:01:45.530517",
     "exception": false,
     "start_time": "2023-02-23T20:01:45.514217",
     "status": "completed"
    },
    "tags": []
   },
   "outputs": [
    {
     "name": "stdout",
     "output_type": "stream",
     "text": [
      "Best RMSE: 29101.3444\n",
      "Best hyperparameters: {'n_factors': 33, 'n_epochs': 25, 'lr_all': 0.006354482321137168, 'reg_all': 0.05674236956258821}\n"
     ]
    }
   ],
   "source": [
    "# Print the best hyperparameters and objective value found by Optuna\n",
    "print(f'Best RMSE: {study.best_value:.4f}')\n",
    "print(f'Best hyperparameters: {study.best_params}')"
   ]
  },
  {
   "cell_type": "code",
   "execution_count": 15,
   "id": "8858fccb",
   "metadata": {
    "execution": {
     "iopub.execute_input": "2023-02-23T20:01:45.546478Z",
     "iopub.status.busy": "2023-02-23T20:01:45.546077Z",
     "iopub.status.idle": "2023-02-23T20:01:45.551179Z",
     "shell.execute_reply": "2023-02-23T20:01:45.550207Z"
    },
    "papermill": {
     "duration": 0.015452,
     "end_time": "2023-02-23T20:01:45.553581",
     "exception": false,
     "start_time": "2023-02-23T20:01:45.538129",
     "status": "completed"
    },
    "tags": []
   },
   "outputs": [],
   "source": [
    "# Define the best hyperparameters found by Optuna\n",
    "best_params = {'n_factors': 62, 'n_epochs': 24, 'lr_all': 0.006745171733062295, 'reg_all': 0.06414005746315199}\n"
   ]
  },
  {
   "cell_type": "code",
   "execution_count": 16,
   "id": "17ec05b4",
   "metadata": {
    "execution": {
     "iopub.execute_input": "2023-02-23T20:01:45.568576Z",
     "iopub.status.busy": "2023-02-23T20:01:45.568016Z",
     "iopub.status.idle": "2023-02-23T20:01:45.572803Z",
     "shell.execute_reply": "2023-02-23T20:01:45.571625Z"
    },
    "papermill": {
     "duration": 0.014372,
     "end_time": "2023-02-23T20:01:45.575001",
     "exception": false,
     "start_time": "2023-02-23T20:01:45.560629",
     "status": "completed"
    },
    "tags": []
   },
   "outputs": [],
   "source": [
    "# Create the SVD model with the best hyperparameters\n",
    "model = SVD(**best_params)"
   ]
  },
  {
   "cell_type": "code",
   "execution_count": 17,
   "id": "662f51e0",
   "metadata": {
    "execution": {
     "iopub.execute_input": "2023-02-23T20:01:45.589739Z",
     "iopub.status.busy": "2023-02-23T20:01:45.589396Z",
     "iopub.status.idle": "2023-02-23T20:01:49.468722Z",
     "shell.execute_reply": "2023-02-23T20:01:49.467373Z"
    },
    "papermill": {
     "duration": 3.889004,
     "end_time": "2023-02-23T20:01:49.470795",
     "exception": false,
     "start_time": "2023-02-23T20:01:45.581791",
     "status": "completed"
    },
    "tags": []
   },
   "outputs": [
    {
     "data": {
      "text/plain": [
       "<surprise.prediction_algorithms.matrix_factorization.SVD at 0x7f38b1862250>"
      ]
     },
     "execution_count": 17,
     "metadata": {},
     "output_type": "execute_result"
    }
   ],
   "source": [
    "# Train the model on the full train dataset\n",
    "train_dataset = Dataset.load_from_df(train_df[['userId', 'movieId', 'rating']], Reader(rating_scale=(0.0, 1.0)))\n",
    "trainset = train_dataset.build_full_trainset()\n",
    "model.fit(trainset)"
   ]
  },
  {
   "cell_type": "code",
   "execution_count": 18,
   "id": "796b6bf0",
   "metadata": {
    "execution": {
     "iopub.execute_input": "2023-02-23T20:01:49.485798Z",
     "iopub.status.busy": "2023-02-23T20:01:49.485475Z",
     "iopub.status.idle": "2023-02-23T20:01:50.112334Z",
     "shell.execute_reply": "2023-02-23T20:01:50.111425Z"
    },
    "papermill": {
     "duration": 0.636825,
     "end_time": "2023-02-23T20:01:50.114608",
     "exception": false,
     "start_time": "2023-02-23T20:01:49.477783",
     "status": "completed"
    },
    "tags": []
   },
   "outputs": [],
   "source": [
    "# Make predictions on the test dataset\n",
    "test_df['rating'] = test_df.apply(lambda x: model.predict(x['userId'], x['movieId'])[3], axis=1)"
   ]
  },
  {
   "cell_type": "code",
   "execution_count": 19,
   "id": "fb594b20",
   "metadata": {
    "execution": {
     "iopub.execute_input": "2023-02-23T20:01:50.129244Z",
     "iopub.status.busy": "2023-02-23T20:01:50.128906Z",
     "iopub.status.idle": "2023-02-23T20:01:50.137839Z",
     "shell.execute_reply": "2023-02-23T20:01:50.137036Z"
    },
    "papermill": {
     "duration": 0.01839,
     "end_time": "2023-02-23T20:01:50.139733",
     "exception": false,
     "start_time": "2023-02-23T20:01:50.121343",
     "status": "completed"
    },
    "tags": []
   },
   "outputs": [
    {
     "data": {
      "text/html": [
       "<div>\n",
       "<style scoped>\n",
       "    .dataframe tbody tr th:only-of-type {\n",
       "        vertical-align: middle;\n",
       "    }\n",
       "\n",
       "    .dataframe tbody tr th {\n",
       "        vertical-align: top;\n",
       "    }\n",
       "\n",
       "    .dataframe thead th {\n",
       "        text-align: right;\n",
       "    }\n",
       "</style>\n",
       "<table border=\"1\" class=\"dataframe\">\n",
       "  <thead>\n",
       "    <tr style=\"text-align: right;\">\n",
       "      <th></th>\n",
       "      <th>userId</th>\n",
       "      <th>movieId</th>\n",
       "      <th>rating</th>\n",
       "    </tr>\n",
       "  </thead>\n",
       "  <tbody>\n",
       "    <tr>\n",
       "      <th>0</th>\n",
       "      <td>469</td>\n",
       "      <td>2124</td>\n",
       "      <td>0.643249</td>\n",
       "    </tr>\n",
       "    <tr>\n",
       "      <th>1</th>\n",
       "      <td>439</td>\n",
       "      <td>3753</td>\n",
       "      <td>0.705467</td>\n",
       "    </tr>\n",
       "    <tr>\n",
       "      <th>2</th>\n",
       "      <td>522</td>\n",
       "      <td>1682</td>\n",
       "      <td>0.885139</td>\n",
       "    </tr>\n",
       "    <tr>\n",
       "      <th>3</th>\n",
       "      <td>429</td>\n",
       "      <td>1217</td>\n",
       "      <td>0.939277</td>\n",
       "    </tr>\n",
       "    <tr>\n",
       "      <th>4</th>\n",
       "      <td>71</td>\n",
       "      <td>1210</td>\n",
       "      <td>0.840327</td>\n",
       "    </tr>\n",
       "  </tbody>\n",
       "</table>\n",
       "</div>"
      ],
      "text/plain": [
       "  userId movieId    rating\n",
       "0    469    2124  0.643249\n",
       "1    439    3753  0.705467\n",
       "2    522    1682  0.885139\n",
       "3    429    1217  0.939277\n",
       "4     71    1210  0.840327"
      ]
     },
     "execution_count": 19,
     "metadata": {},
     "output_type": "execute_result"
    }
   ],
   "source": [
    "test_df.head()"
   ]
  },
  {
   "cell_type": "code",
   "execution_count": 20,
   "id": "97759ac4",
   "metadata": {
    "execution": {
     "iopub.execute_input": "2023-02-23T20:01:50.156047Z",
     "iopub.status.busy": "2023-02-23T20:01:50.155258Z",
     "iopub.status.idle": "2023-02-23T20:01:50.170929Z",
     "shell.execute_reply": "2023-02-23T20:01:50.170027Z"
    },
    "papermill": {
     "duration": 0.025901,
     "end_time": "2023-02-23T20:01:50.172963",
     "exception": false,
     "start_time": "2023-02-23T20:01:50.147062",
     "status": "completed"
    },
    "tags": []
   },
   "outputs": [],
   "source": [
    "# Combine userId and movieId columns to create a new column called userId_movieId\n",
    "test_df['userId_movieId'] = test_df['userId'].astype(str) + '_' + test_df['movieId'].astype(str)\n",
    "\n",
    "# Drop the original userId and movieId columns\n",
    "test_df.drop(['userId', 'movieId'], axis=1, inplace=True)\n",
    "\n",
    "# Rearrange the columns so that userId_movieId comes first and rating comes second\n",
    "test_df = test_df[['userId_movieId', 'rating']]"
   ]
  },
  {
   "cell_type": "code",
   "execution_count": 21,
   "id": "c15c9ac4",
   "metadata": {
    "execution": {
     "iopub.execute_input": "2023-02-23T20:01:50.188157Z",
     "iopub.status.busy": "2023-02-23T20:01:50.187703Z",
     "iopub.status.idle": "2023-02-23T20:01:50.194747Z",
     "shell.execute_reply": "2023-02-23T20:01:50.194215Z"
    },
    "papermill": {
     "duration": 0.016492,
     "end_time": "2023-02-23T20:01:50.196470",
     "exception": false,
     "start_time": "2023-02-23T20:01:50.179978",
     "status": "completed"
    },
    "tags": []
   },
   "outputs": [
    {
     "data": {
      "text/html": [
       "<div>\n",
       "<style scoped>\n",
       "    .dataframe tbody tr th:only-of-type {\n",
       "        vertical-align: middle;\n",
       "    }\n",
       "\n",
       "    .dataframe tbody tr th {\n",
       "        vertical-align: top;\n",
       "    }\n",
       "\n",
       "    .dataframe thead th {\n",
       "        text-align: right;\n",
       "    }\n",
       "</style>\n",
       "<table border=\"1\" class=\"dataframe\">\n",
       "  <thead>\n",
       "    <tr style=\"text-align: right;\">\n",
       "      <th></th>\n",
       "      <th>userId_movieId</th>\n",
       "      <th>rating</th>\n",
       "    </tr>\n",
       "  </thead>\n",
       "  <tbody>\n",
       "    <tr>\n",
       "      <th>0</th>\n",
       "      <td>469_2124</td>\n",
       "      <td>0.643249</td>\n",
       "    </tr>\n",
       "    <tr>\n",
       "      <th>1</th>\n",
       "      <td>439_3753</td>\n",
       "      <td>0.705467</td>\n",
       "    </tr>\n",
       "    <tr>\n",
       "      <th>2</th>\n",
       "      <td>522_1682</td>\n",
       "      <td>0.885139</td>\n",
       "    </tr>\n",
       "    <tr>\n",
       "      <th>3</th>\n",
       "      <td>429_1217</td>\n",
       "      <td>0.939277</td>\n",
       "    </tr>\n",
       "    <tr>\n",
       "      <th>4</th>\n",
       "      <td>71_1210</td>\n",
       "      <td>0.840327</td>\n",
       "    </tr>\n",
       "  </tbody>\n",
       "</table>\n",
       "</div>"
      ],
      "text/plain": [
       "  userId_movieId    rating\n",
       "0       469_2124  0.643249\n",
       "1       439_3753  0.705467\n",
       "2       522_1682  0.885139\n",
       "3       429_1217  0.939277\n",
       "4        71_1210  0.840327"
      ]
     },
     "execution_count": 21,
     "metadata": {},
     "output_type": "execute_result"
    }
   ],
   "source": [
    "test_df.head()"
   ]
  },
  {
   "cell_type": "code",
   "execution_count": 22,
   "id": "b2129811",
   "metadata": {
    "execution": {
     "iopub.execute_input": "2023-02-23T20:01:50.212006Z",
     "iopub.status.busy": "2023-02-23T20:01:50.211377Z",
     "iopub.status.idle": "2023-02-23T20:01:50.262882Z",
     "shell.execute_reply": "2023-02-23T20:01:50.262227Z"
    },
    "papermill": {
     "duration": 0.061562,
     "end_time": "2023-02-23T20:01:50.265132",
     "exception": false,
     "start_time": "2023-02-23T20:01:50.203570",
     "status": "completed"
    },
    "tags": []
   },
   "outputs": [],
   "source": [
    "# Save the resulting DataFrame to a new CSV file\n",
    "test_df.to_csv('submission.csv', index=False)"
   ]
  }
 ],
 "metadata": {
  "kernelspec": {
   "display_name": "Python 3",
   "language": "python",
   "name": "python3"
  },
  "language_info": {
   "codemirror_mode": {
    "name": "ipython",
    "version": 3
   },
   "file_extension": ".py",
   "mimetype": "text/x-python",
   "name": "python",
   "nbconvert_exporter": "python",
   "pygments_lexer": "ipython3",
   "version": "3.7.12"
  },
  "papermill": {
   "default_parameters": {},
   "duration": 350.325998,
   "end_time": "2023-02-23T20:01:51.093796",
   "environment_variables": {},
   "exception": null,
   "input_path": "__notebook__.ipynb",
   "output_path": "__notebook__.ipynb",
   "parameters": {},
   "start_time": "2023-02-23T19:56:00.767798",
   "version": "2.3.4"
  }
 },
 "nbformat": 4,
 "nbformat_minor": 5
}
